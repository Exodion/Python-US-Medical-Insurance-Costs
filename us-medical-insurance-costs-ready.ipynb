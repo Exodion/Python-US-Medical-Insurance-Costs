{
 "cells": [
  {
   "cell_type": "markdown",
   "metadata": {},
   "source": [
    "# U.S. Medical Insurance Costs"
   ]
  },
  {
   "cell_type": "markdown",
   "metadata": {},
   "source": [
    "Project by Christian Förster"
   ]
  },
  {
   "cell_type": "markdown",
   "metadata": {},
   "source": [
    "<h2>Goals:</h2> \n",
    "<ul>\n",
    "<li>Find out the average age of the patients in the dataset</li>\n",
    "<li>Analyze where a majority of the individuals are from</li>\n",
    "<li>Look at the different costs between smokers vs. non-smkeors</li>\n",
    "<li>Figure out what the average age is for someone who has at least one child in this data</li>\n",
    "</ul>\n"
   ]
  },
  {
   "cell_type": "markdown",
   "metadata": {},
   "source": [
    "<h2>Functions</h2>"
   ]
  },
  {
   "cell_type": "markdown",
   "metadata": {},
   "source": [
    "Calculating average age"
   ]
  },
  {
   "cell_type": "code",
   "execution_count": 203,
   "metadata": {},
   "outputs": [],
   "source": [
    "def calculate_avg_age(csv_data):    \n",
    "    patients_number = 0\n",
    "    age_sum = 0\n",
    "    \n",
    "    for row in csv_data:\n",
    "        age_sum += int(row[\"age\"])\n",
    "        patients_number += 1\n",
    "\n",
    "    return round(age_sum / patients_number, 2)\n",
    "        \n",
    "        "
   ]
  },
  {
   "cell_type": "markdown",
   "metadata": {},
   "source": [
    "Calculating where the majority of the people is from"
   ]
  },
  {
   "cell_type": "code",
   "execution_count": 204,
   "metadata": {},
   "outputs": [],
   "source": [
    "def majority(csv_data):\n",
    "    locations = {}\n",
    "    for row in csv_data:  \n",
    "        \n",
    "        if not row[\"region\"] in locations:\n",
    "            locations[row[\"region\"]] = 1\n",
    "        else:\n",
    "            locations[row[\"region\"]] += 1\n",
    "\n",
    "    for key in locations:\n",
    "        print(key + \": \" + str(locations[key]) + \" patients\")\n",
    "    \n",
    "    return \"The majority are from \" + str(max(locations)) + \" with \" + str(max(locations.values())) + \" patients\"\n",
    "        \n",
    "    "
   ]
  },
  {
   "cell_type": "markdown",
   "metadata": {},
   "source": [
    "Calculating average cost for smokers and non-smokers"
   ]
  },
  {
   "cell_type": "code",
   "execution_count": 205,
   "metadata": {},
   "outputs": [],
   "source": [
    "def avg_cost_smoker(csv_data):\n",
    "    smokers_count = 0\n",
    "    non_smokers_count = 0\n",
    "    smokers_sum = 0.0\n",
    "    non_smokers_sum = 0.0\n",
    "    smokers_result = 0.0\n",
    "    non_smokers_result = 0.0\n",
    "    \n",
    "    for row in csv_data:\n",
    "        if row[\"smoker\"] == \"yes\":\n",
    "            smokers_count += 1\n",
    "            smokers_sum += float(row[\"charges\"])\n",
    "        else:\n",
    "            non_smokers_count += 1\n",
    "            non_smokers_sum += float(row[\"charges\"])\n",
    "    \n",
    "    smokers_result = smokers_sum / smokers_count\n",
    "    non_smokers_result = non_smokers_sum / non_smokers_count\n",
    "\n",
    "    return \"The average cost for smokers is: \" + str(round(smokers_result, 2)) + \"\\nThe average cost for non-smokers is: \" + str(round(non_smokers_result, 2))"
   ]
  },
  {
   "cell_type": "markdown",
   "metadata": {},
   "source": [
    "Calculating average cost"
   ]
  },
  {
   "cell_type": "code",
   "execution_count": 206,
   "metadata": {},
   "outputs": [],
   "source": [
    "def avg_cost(csv_data):\n",
    "    patients_count = 0\n",
    "    sum = 0.0\n",
    "\n",
    "    for row in csv_data:\n",
    "        sum += float(row[\"charges\"])\n",
    "        patients_count += 1\n",
    "    \n",
    "    return round(sum / patients_count, 2)\n",
    "     "
   ]
  },
  {
   "cell_type": "markdown",
   "metadata": {},
   "source": [
    "Calculating average age of people with children"
   ]
  },
  {
   "cell_type": "code",
   "execution_count": 207,
   "metadata": {},
   "outputs": [],
   "source": [
    "def average_age_children(csv_data):\n",
    "    age_sum = 0\n",
    "    patients_count = 0\n",
    "\n",
    "    for row in csv_data:\n",
    "        if int(row[\"children\"]) > 0:\n",
    "            age_sum += int(row[\"age\"])\n",
    "            patients_count += 1\n",
    "    \n",
    "    return \"The average age of people with at least one children is: \" + str(round(age_sum / patients_count, 2))\n"
   ]
  },
  {
   "cell_type": "markdown",
   "metadata": {},
   "source": [
    "<h2>Importing the CSV</h2>"
   ]
  },
  {
   "cell_type": "code",
   "execution_count": 209,
   "metadata": {},
   "outputs": [],
   "source": [
    "import csv"
   ]
  },
  {
   "cell_type": "code",
   "execution_count": 210,
   "metadata": {
    "scrolled": true
   },
   "outputs": [
    {
     "name": "stdout",
     "output_type": "stream",
     "text": [
      "The average age is: 39.21\n",
      "southwest: 325 patients\n",
      "southeast: 364 patients\n",
      "northwest: 325 patients\n",
      "northeast: 324 patients\n",
      "The majority are from southwest with 364 patients\n",
      "The average cost for smokers is: 32050.23\n",
      "The average cost for non-smokers is: 8434.27\n",
      "The average cost is: 13270.42\n",
      "The average age of people with at least one children is: 39.78\n"
     ]
    }
   ],
   "source": [
    "with open(\"insurance.csv\") as file:\n",
    "    fields = [\"age\", \"sex\", \"bmi\", \"children\", \"smoker\", \"region\", \"charges\"]\n",
    "    reader = csv.DictReader(file, delimiter=\",\")\n",
    "\n",
    "    print(\"The average age is: \" + str(calculate_avg_age(reader)))\n",
    "\n",
    "    file.seek(0)\n",
    "    next(reader, None)\n",
    "    print(majority(reader))\n",
    "\n",
    "    file.seek(0)\n",
    "    next(reader, None)\n",
    "    print(avg_cost_smoker(reader))\n",
    "\n",
    "    file.seek(0)\n",
    "    next(reader, None)\n",
    "    print(\"The average cost is: \" + str(avg_cost(reader)))    \n",
    "    \n",
    "    file.seek(0)\n",
    "    next(reader, None)\n",
    "    print(average_age_children(reader))\n",
    "    "
   ]
  }
 ],
 "metadata": {
  "kernelspec": {
   "display_name": "Python 3 (ipykernel)",
   "language": "python",
   "name": "python3"
  },
  "language_info": {
   "codemirror_mode": {
    "name": "ipython",
    "version": 3
   },
   "file_extension": ".py",
   "mimetype": "text/x-python",
   "name": "python",
   "nbconvert_exporter": "python",
   "pygments_lexer": "ipython3",
   "version": "3.11.0"
  }
 },
 "nbformat": 4,
 "nbformat_minor": 4
}
